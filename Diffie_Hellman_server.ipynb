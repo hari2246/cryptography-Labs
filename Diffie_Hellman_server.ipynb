{
 "cells": [
  {
   "cell_type": "markdown",
   "id": "bdf72511",
   "metadata": {},
   "source": [
    "3) Write a program to implement Diffie – Hellman Key exchange algorithm\n",
    "4) Write a client server program to implement end to end encryption using Diffie Hellman key\n",
    "exchange algorithm and encryption mechanism of your choice."
   ]
  },
  {
   "cell_type": "code",
   "execution_count": 1,
   "id": "43768d0a",
   "metadata": {},
   "outputs": [],
   "source": [
    "import random\n",
    "from Crypto.Cipher import AES \n",
    "from Crypto.Util.Padding import pad, unpad\n",
    "import socket"
   ]
  },
  {
   "cell_type": "code",
   "execution_count": 6,
   "id": "2f676494",
   "metadata": {},
   "outputs": [],
   "source": [
    "def modular_exponentiation(base, exponent, modulus):\n",
    "    result = 1\n",
    "    base = base % modulus\n",
    "    while exponent > 0:\n",
    "        if exponent % 2 == 1:\n",
    "            result = (result * base) % modulus\n",
    "        exponent = exponent // 2 \n",
    "        base = (base * base) % modulus \n",
    "    return result\n",
    "\n",
    "def format_key(key):\n",
    "    return key.ljust(16)[:16].encode()\n",
    "\n",
    "def encrypt(message, key):\n",
    "    key = format_key(key)  \n",
    "    iv = b'1234567890123456'\n",
    "    cipher = AES.new(key, AES.MODE_CBC, iv)\n",
    "    return cipher.encrypt(pad(message.encode(), AES.block_size))\n",
    "\n",
    "def decrypt(ciphertext, key):\n",
    "    key = format_key(key)\n",
    "    iv = b'1234567890123456'\n",
    "    cipher = AES.new(key, AES.MODE_CBC, iv)\n",
    "    return unpad(cipher.decrypt(ciphertext), AES.block_size).decode()"
   ]
  },
  {
   "cell_type": "code",
   "execution_count": 13,
   "id": "3cbf0c12",
   "metadata": {},
   "outputs": [],
   "source": [
    "def diffieHellman(g,n):\n",
    "    x=random.randint(1,n-1)\n",
    "    k1=modular_exponentiation(g,x,n)\n",
    "    conn.send(str(k1).encode())\n",
    "    k2=int(conn.recv(1024).decode())\n",
    "    return str(modular_exponentiation(k2,x,n))"
   ]
  },
  {
   "cell_type": "code",
   "execution_count": 16,
   "id": "42a16c46",
   "metadata": {},
   "outputs": [
    {
     "name": "stdout",
     "output_type": "stream",
     "text": [
      "Server is listening...\n",
      "Connected to ('127.0.0.1', 50625)\n",
      "10679807499512108246059735005\n",
      "Waiting for message...\n",
      "Before decrytion:  b'Z\\xdcI\\xbb\\xc0\\xbb\\x18\\x0f\\xa6\\xdf\\xa9\\x08@\\xbd\\x1d6'\n",
      "Received: hii\n",
      "Enter message : hello\n",
      "Waiting for message...\n",
      "Before decrytion:  b'gz{\\xae\\xa8>\\x92:\\x91\\xba\\x13b5\\xf5Kn\\xf1\\x93\\xd6<P>h\\xdc\\x1f\\xda\\xbcw;\\xd4yi\\x06R\\xc5s\\x82\\x9e\\xde\\xae3</\\x89\\xac \\xc4]'\n",
      "Received: This is secret,don't to tell to anyone\n",
      "Enter message : ok\n",
      "Waiting for message...\n",
      "Before decrytion:  b'\\x1e>\\x18\\xb8>\\xf7\\xee\\x14/\\xd3\\x90\\xc8\\xf3\\xbf\\x0c\\xf0'\n",
      "Connection closed.\n"
     ]
    }
   ],
   "source": [
    "server=socket.socket(socket.AF_INET,socket.SOCK_STREAM)\n",
    "server.bind((\"localhost\", 1234))\n",
    "server.listen(1)\n",
    "\n",
    "print(\"Server is listening...\")\n",
    "conn,addr = server.accept()\n",
    "\n",
    "print(\"Connected to\",addr)\n",
    "\n",
    "a = 182841384165841685416854134135\n",
    "b = 135481653441354138548413384135 \n",
    "key = diffieHellman(a,b)\n",
    "print(key)\n",
    "\n",
    "while True:\n",
    "    print(\"Waiting for message...\")\n",
    "    data_before=conn.recv(1024)\n",
    "    print(\"Before decrytion: \",data_before)\n",
    "    data = decrypt(data_before,key)\n",
    "    if data.lower() == \"quit\":\n",
    "        print(\"Connection closed.\")\n",
    "        break\n",
    "    print(f\"Received: {data}\")\n",
    "    msg1=input(\"Enter message : \")\n",
    "    conn.send((encrypt(msg1,key)))\n",
    "conn.close()\n",
    "server.close()"
   ]
  },
  {
   "cell_type": "code",
   "execution_count": null,
   "id": "fd0c0bd4",
   "metadata": {},
   "outputs": [],
   "source": []
  }
 ],
 "metadata": {
  "kernelspec": {
   "display_name": "Python 3 (ipykernel)",
   "language": "python",
   "name": "python3"
  },
  "language_info": {
   "codemirror_mode": {
    "name": "ipython",
    "version": 3
   },
   "file_extension": ".py",
   "mimetype": "text/x-python",
   "name": "python",
   "nbconvert_exporter": "python",
   "pygments_lexer": "ipython3",
   "version": "3.11.4"
  }
 },
 "nbformat": 4,
 "nbformat_minor": 5
}
