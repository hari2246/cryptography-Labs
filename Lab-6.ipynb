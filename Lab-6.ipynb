{
 "cells": [
  {
   "cell_type": "markdown",
   "id": "eaada8fb",
   "metadata": {},
   "source": [
    "# Lab-6"
   ]
  },
  {
   "cell_type": "markdown",
   "id": "3b70e72b",
   "metadata": {},
   "source": [
    "1. Add, subtract, multiply and divide two very large numbers"
   ]
  },
  {
   "cell_type": "code",
   "execution_count": 2,
   "id": "1a1e3da0",
   "metadata": {},
   "outputs": [
    {
     "name": "stdout",
     "output_type": "stream",
     "text": [
      "Enter first num : 182841384165841685416854134135\n",
      "Enter second num: 135481653441354138548413384135\n",
      "\n",
      "Addition       :  318323037607195823965267518270\n",
      "Subtraction    :  47359730724487546868440750000\n",
      "Multiplication :  24771653044294059276095960514433194967998354496640570948225\n",
      "Division       :  1.3495656387526163\n"
     ]
    }
   ],
   "source": [
    "a = int(input(\"Enter first num : \"))\n",
    "b = int(input(\"Enter second num: \"))\n",
    "print()\n",
    "print(\"Addition       : \",a+b)\n",
    "print(\"Subtraction    : \",a-b)\n",
    "print(\"Multiplication : \",a*b)\n",
    "print(\"Division       : \",a/b)"
   ]
  },
  {
   "cell_type": "code",
   "execution_count": 1,
   "id": "04d069d4",
   "metadata": {},
   "outputs": [
    {
     "data": {
      "text/plain": [
       "47359730724487546868440750000"
      ]
     },
     "execution_count": 1,
     "metadata": {},
     "output_type": "execute_result"
    }
   ],
   "source": [
    "def extended_gcd(a,b):\n",
    "    if b == 0:\n",
    "        return a,1,0\n",
    "    gcd, x1, y1 = extended_gcd(b, a % b)\n",
    "    x = y1\n",
    "    y = x1-(a // b)*y1\n",
    "    return gcd,x,y\n",
    "\n",
    "def mod_division(a,b,m):\n",
    "    gcd, x, y = extended_gcd(b,m)\n",
    "    inverse_b = x % m\n",
    "    return (a * inverse_b) % m\n",
    "\n",
    "a = 182841384165841685416854134135\n",
    "b = 135481653441354138548413384135\n",
    "mod_division(a,1,b)"
   ]
  }
 ],
 "metadata": {
  "kernelspec": {
   "display_name": "Python 3 (ipykernel)",
   "language": "python",
   "name": "python3"
  },
  "language_info": {
   "codemirror_mode": {
    "name": "ipython",
    "version": 3
   },
   "file_extension": ".py",
   "mimetype": "text/x-python",
   "name": "python",
   "nbconvert_exporter": "python",
   "pygments_lexer": "ipython3",
   "version": "3.11.4"
  }
 },
 "nbformat": 4,
 "nbformat_minor": 5
}
