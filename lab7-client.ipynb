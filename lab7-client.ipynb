{
 "cells": [
  {
   "cell_type": "code",
   "execution_count": 14,
   "id": "0e8a7610",
   "metadata": {},
   "outputs": [],
   "source": [
    "import hashlib\n",
    "def sha512(message):\n",
    "    hash_object = hashlib.sha512(message.encode())\n",
    "    hex_dig = hash_object.hexdigest()\n",
    "    return hex_dig"
   ]
  },
  {
   "cell_type": "code",
   "execution_count": 9,
   "id": "0f8dbda0",
   "metadata": {},
   "outputs": [],
   "source": [
    "from Crypto.Cipher import AES \n",
    "from Crypto.Util.Padding import pad, unpad\n",
    "import socket\n",
    "from cryptography.hazmat.primitives.asymmetric import ec\n",
    "from cryptography.hazmat.primitives import serialization\n",
    "\n",
    "def format_key(key):\n",
    "    return key.ljust(16)[:16].encode()\n",
    "\n",
    "def encrypt(message, key):\n",
    "    key = format_key(key)  \n",
    "    iv = b'1234567890123456'\n",
    "    cipher = AES.new(key, AES.MODE_CBC, iv)\n",
    "    return cipher.encrypt(pad(message.encode(), AES.block_size))\n",
    "\n",
    "def decrypt(ciphertext, key):\n",
    "    key = format_key(key)\n",
    "    iv = b'1234567890123456'\n",
    "    cipher = AES.new(key, AES.MODE_CBC, iv)\n",
    "    return unpad(cipher.decrypt(ciphertext), AES.block_size).decode()"
   ]
  },
  {
   "cell_type": "code",
   "execution_count": 17,
   "id": "1d0b9478",
   "metadata": {},
   "outputs": [
    {
     "name": "stdout",
     "output_type": "stream",
     "text": [
      "Client derived shared secret: 2ea18cea6d88fc29cf3ed9cc6fb63addbeaba31ce5fbb4c5cb7a5ea0f05ac0c1\n",
      "Integrity is maintained!!\n",
      "hi\n"
     ]
    }
   ],
   "source": [
    "import socket\n",
    "from cryptography.hazmat.primitives.asymmetric import ec\n",
    "from cryptography.hazmat.primitives import serialization\n",
    "\n",
    "def client():\n",
    "    client_socket = socket.socket(socket.AF_INET, socket.SOCK_STREAM)\n",
    "    client_socket.connect(('localhost', 1234))\n",
    "\n",
    "    client_private_key = ec.generate_private_key(ec.SECP256R1())\n",
    "    client_public_key = client_private_key.public_key()\n",
    "\n",
    "    server_public_bytes = client_socket.recv(1024)\n",
    "    server_public_key = serialization.load_pem_public_key(server_public_bytes)\n",
    "\n",
    "    client_public_bytes = client_public_key.public_bytes(\n",
    "        encoding=serialization.Encoding.PEM,\n",
    "        format=serialization.PublicFormat.SubjectPublicKeyInfo\n",
    "    )\n",
    "    client_socket.sendall(client_public_bytes)\n",
    "    \n",
    "    shared_secret = client_private_key.exchange(ec.ECDH(), server_public_key)\n",
    "    print(\"Client derived shared secret:\", shared_secret.hex())\n",
    "    \n",
    "    msg = client_socket.recv(1024)\n",
    "    decrypt_msg = decrypt(msg,shared_secret.hex())\n",
    "    \n",
    "    msg,hash_msg = decrypt_msg.split('***')\n",
    "    hash2 = sha512(msg)\n",
    "    \n",
    "    if hash2 == hash_msg :\n",
    "        print(\"Integrity is maintained!!\")\n",
    "        print(msg)\n",
    "    else:\n",
    "        print(\"Data is corrupted\")\n",
    "    \n",
    "    \n",
    "    client_socket.close()\n",
    "\n",
    "client()"
   ]
  },
  {
   "cell_type": "code",
   "execution_count": null,
   "id": "30f7822c",
   "metadata": {},
   "outputs": [],
   "source": []
  }
 ],
 "metadata": {
  "kernelspec": {
   "display_name": "Python 3 (ipykernel)",
   "language": "python",
   "name": "python3"
  },
  "language_info": {
   "codemirror_mode": {
    "name": "ipython",
    "version": 3
   },
   "file_extension": ".py",
   "mimetype": "text/x-python",
   "name": "python",
   "nbconvert_exporter": "python",
   "pygments_lexer": "ipython3",
   "version": "3.11.4"
  }
 },
 "nbformat": 4,
 "nbformat_minor": 5
}
