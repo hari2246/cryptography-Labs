{
 "cells": [
  {
   "cell_type": "markdown",
   "id": "f557074c",
   "metadata": {},
   "source": [
    "Write a program to generate Hash code for a given text using SHA 512"
   ]
  },
  {
   "cell_type": "code",
   "execution_count": 1,
   "id": "03ffdc79",
   "metadata": {},
   "outputs": [],
   "source": [
    "import cryptography\n",
    "import hashlib"
   ]
  },
  {
   "cell_type": "code",
   "execution_count": 2,
   "id": "04ecf8f5",
   "metadata": {},
   "outputs": [],
   "source": [
    "def sha512(message):\n",
    "    hash_object = hashlib.sha512(message.encode())\n",
    "    hex_dig = hash_object.hexdigest()\n",
    "    return hex_dig"
   ]
  },
  {
   "cell_type": "code",
   "execution_count": 10,
   "id": "892dfabc",
   "metadata": {},
   "outputs": [
    {
     "name": "stdout",
     "output_type": "stream",
     "text": [
      "Enter your message:Hello World\n",
      "2c74fd17edafd80e8447b0d46741ee243b7eb74dd2149a0ab1b9246fb30382f27e853d8585719e0e67cbda0daa8f51671064615d645ae27acb15bfb1447f459b\n"
     ]
    }
   ],
   "source": [
    "msg = input(\"Enter your message:\")\n",
    "print(sha512(msg))"
   ]
  },
  {
   "cell_type": "markdown",
   "id": "2d941796",
   "metadata": {},
   "source": [
    "Write a program to send a message ensuring confidentiality and integrity\n",
    "Hint for 2:\n",
    "perform diffie hellman exchange (from previous lab) to generate a session key\n",
    "Compute Hash code of the message text\n",
    "use AES to encrypt the (text + hash code)\n",
    "encrypt the (message + Hash Code)\n",
    "send it to client/server\n",
    "decrypt the message\n",
    "check the integrity."
   ]
  },
  {
   "cell_type": "code",
   "execution_count": 4,
   "id": "ca9f7ad1",
   "metadata": {},
   "outputs": [],
   "source": [
    "from Crypto.Cipher import AES \n",
    "from Crypto.Util.Padding import pad, unpad\n",
    "import socket\n",
    "from cryptography.hazmat.primitives.asymmetric import ec\n",
    "from cryptography.hazmat.primitives import serialization\n",
    "\n",
    "def format_key(key):\n",
    "    return key.ljust(16)[:16].encode()\n",
    "\n",
    "def encrypt(message, key):\n",
    "    key = format_key(key)  \n",
    "    iv = b'1234567890123456'\n",
    "    cipher = AES.new(key, AES.MODE_CBC, iv)\n",
    "    return cipher.encrypt(pad(message.encode(), AES.block_size))\n",
    "\n",
    "def decrypt(ciphertext, key):\n",
    "    key = format_key(key)\n",
    "    iv = b'1234567890123456'\n",
    "    cipher = AES.new(key, AES.MODE_CBC, iv)\n",
    "    return unpad(cipher.decrypt(ciphertext), AES.block_size).decode()"
   ]
  },
  {
   "cell_type": "code",
   "execution_count": 9,
   "id": "54171274",
   "metadata": {},
   "outputs": [
    {
     "name": "stdout",
     "output_type": "stream",
     "text": [
      "Server listening on port 12345...\n",
      "Connection established with ('127.0.0.1', 52432)\n",
      "Server derived shared secret: 2ea18cea6d88fc29cf3ed9cc6fb63addbeaba31ce5fbb4c5cb7a5ea0f05ac0c1\n",
      "Enter a message to send:hi\n",
      "hi***150a14ed5bea6cc731cf86c41566ac427a8db48ef1b9fd626664b3bfbb99071fa4c922f33dde38719b8c8354e2b7ab9d77e0e67fc12843920a712e73d558e197\n"
     ]
    }
   ],
   "source": [
    "import socket\n",
    "from cryptography.hazmat.primitives.asymmetric import ec\n",
    "from cryptography.hazmat.primitives import serialization\n",
    "\n",
    "def server():\n",
    "    server_socket = socket.socket(socket.AF_INET, socket.SOCK_STREAM)\n",
    "    server_socket.bind(('localhost', 1234))\n",
    "    server_socket.listen(1)\n",
    "    print(\"Server listening on port 12345...\")\n",
    "    \n",
    "    conn, addr = server_socket.accept()\n",
    "    print(f\"Connection established with {addr}\")\n",
    "    \n",
    "    server_private_key = ec.generate_private_key(ec.SECP256R1())\n",
    "    server_public_key = server_private_key.public_key()\n",
    "\n",
    "    server_public_bytes = server_public_key.public_bytes(\n",
    "        encoding=serialization.Encoding.PEM,\n",
    "        format=serialization.PublicFormat.SubjectPublicKeyInfo\n",
    "    )\n",
    "    conn.sendall(server_public_bytes)\n",
    "\n",
    "    client_public_bytes = conn.recv(1024)\n",
    "    client_public_key = serialization.load_pem_public_key(client_public_bytes)\n",
    "\n",
    "    shared_secret = server_private_key.exchange(ec.ECDH(), client_public_key)\n",
    "    print(\"Server derived shared secret:\", shared_secret.hex())\n",
    "    \n",
    "    msg = input(\"Enter a message to send:\")\n",
    "    msg_hash = sha512(msg)\n",
    "    \n",
    "    text_to_send = msg+ \"***\" +msg_hash\n",
    "    print(text_to_send)\n",
    "    \n",
    "    encrypt_msg = encrypt(text_to_send,shared_secret.hex())\n",
    "    conn.send(encrypt_msg)\n",
    "    \n",
    "    \n",
    "    \n",
    "    \n",
    "    conn.close()\n",
    "    server_socket.close()\n",
    "\n",
    "server()"
   ]
  },
  {
   "cell_type": "code",
   "execution_count": null,
   "id": "e1416104",
   "metadata": {},
   "outputs": [],
   "source": []
  }
 ],
 "metadata": {
  "kernelspec": {
   "display_name": "Python 3 (ipykernel)",
   "language": "python",
   "name": "python3"
  },
  "language_info": {
   "codemirror_mode": {
    "name": "ipython",
    "version": 3
   },
   "file_extension": ".py",
   "mimetype": "text/x-python",
   "name": "python",
   "nbconvert_exporter": "python",
   "pygments_lexer": "ipython3",
   "version": "3.11.4"
  }
 },
 "nbformat": 4,
 "nbformat_minor": 5
}
